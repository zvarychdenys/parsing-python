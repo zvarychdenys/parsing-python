{
 "cells": [
  {
   "cell_type": "markdown",
   "id": "76980141",
   "metadata": {},
   "source": [
    "# Parsing na Pythonie\n",
    "___\n",
    "![](page.png)\n",
    "![](page1.png)"
   ]
  },
  {
   "cell_type": "code",
   "execution_count": 195,
   "id": "3ed1cb76",
   "metadata": {},
   "outputs": [],
   "source": [
    "#biblioteki dla parsingu na Pythonie\n",
    "from bs4 import BeautifulSoup\n",
    "import requests\n",
    "import json\n",
    "import csv"
   ]
  },
  {
   "cell_type": "code",
   "execution_count": 196,
   "id": "f43dfb4e",
   "metadata": {},
   "outputs": [],
   "source": [
    "# link do strony\n",
    "url = 'https://health-diet.ru/table_calorie/?utm_source=leftMenu&utm_medium=table_calorie'\n",
    "\n",
    "#(Opcjonalnie) hedearsy aby strona internetowa widziala ze nie jestem botem\n",
    "headers = {\n",
    "    \"accept\": \"*/*\",\n",
    "    \"user-agent\": \"Mozilla/5.0 (Macintosh; Intel Mac OS X 10_15_7) AppleWebKit/537.36 (KHTML, like Gecko) Chrome/103.0.0.0 Safari/537.36\"\n",
    "}\n",
    "\n",
    "req = requests.get(url,headers = headers)\n",
    "\n",
    "scr = req.text #kod strony internetowej w formacie html"
   ]
  },
  {
   "cell_type": "markdown",
   "id": "2d699711",
   "metadata": {},
   "source": [
    "### Zapisuje strone w formacie html do folderu"
   ]
  },
  {
   "cell_type": "code",
   "execution_count": 93,
   "id": "52b8f70b",
   "metadata": {},
   "outputs": [],
   "source": [
    "\n",
    "with open(\"main.html\", \"w\") as file:\n",
    "    file.write(scr)\n",
    "    \n",
    "with open(\"main.html\") as file:\n",
    "    scr = file.read()"
   ]
  },
  {
   "cell_type": "code",
   "execution_count": 197,
   "id": "e329dce7",
   "metadata": {},
   "outputs": [],
   "source": [
    "#tworze obiekt klasy BeautifulSoup\n",
    "soup = BeautifulSoup(scr,'lxml')\n",
    "\n",
    "all_categories_dict = {} \n",
    "all_categories = soup.find_all(class_ = \"mzr-tc-group-item-href\")\n",
    "for item in all_categories:\n",
    "        item_text = item.text\n",
    "        item_hrefs = \"https://health-diet.ru\" + item.get(\"href\")\n",
    "        all_categories_dict[item_text] = item_hrefs"
   ]
  },
  {
   "cell_type": "code",
   "execution_count": 209,
   "id": "8f9d57e4",
   "metadata": {},
   "outputs": [
    {
     "data": {
      "text/plain": [
       "{'Баранина и дичь': 'https://health-diet.ru/base_of_food/food_24507/',\n",
       " 'Бобовые': 'https://health-diet.ru/base_of_food/food_24523/',\n",
       " 'Вода и напитки': 'https://health-diet.ru/base_of_food/food_24509/',\n",
       " 'Говядина и телятина': 'https://health-diet.ru/base_of_food/food_24502/',\n",
       " 'Грибы': 'https://health-diet.ru/base_of_food/food_24513/',\n",
       " 'Детское питание': 'https://health-diet.ru/base_of_food/food_24526/',\n",
       " 'Жиры и масла': 'https://health-diet.ru/base_of_food/food_24515/',\n",
       " 'Кондитерские изделия': 'https://health-diet.ru/base_of_food/food_24525/',\n",
       " 'Крупы, мука, макароны': 'https://health-diet.ru/base_of_food/food_24522/',\n",
       " 'Молочные продукты': 'https://health-diet.ru/base_of_food/food_24519/',\n",
       " 'Напитки алкогольные': 'https://health-diet.ru/base_of_food/food_24508/',\n",
       " 'Овощи и зелень': 'https://health-diet.ru/base_of_food/food_24512/',\n",
       " 'Орехи и семена': 'https://health-diet.ru/base_of_food/food_24517/',\n",
       " 'Полуфабрикаты': 'https://health-diet.ru/base_of_meals/meals_21253/',\n",
       " 'Птица': 'https://health-diet.ru/base_of_food/food_24501/',\n",
       " 'Ресторанная еда': 'https://health-diet.ru/base_of_food/food_24527/',\n",
       " 'Рыба и морепродукты': 'https://health-diet.ru/base_of_food/food_24518/',\n",
       " 'Свинина': 'https://health-diet.ru/base_of_food/food_24503/',\n",
       " 'Снеки': 'https://health-diet.ru/base_of_food/food_24528/',\n",
       " 'Соки': 'https://health-diet.ru/base_of_food/food_24511/',\n",
       " 'Сосиски и колбаса': 'https://health-diet.ru/base_of_food/food_24504/',\n",
       " 'Травы, специи и соусы': 'https://health-diet.ru/base_of_food/food_24514/',\n",
       " 'Фаст-фуд': 'https://health-diet.ru/base_of_food/food_24529/',\n",
       " 'Фрукты и ягоды': 'https://health-diet.ru/base_of_food/food_24516/',\n",
       " 'Хлеб и выпечка': 'https://health-diet.ru/base_of_food/food_24524/',\n",
       " 'Яйца и продукты из яиц': 'https://health-diet.ru/base_of_food/food_24520/',\n",
       " 'Варенье и джемы': 'https://health-diet.ru/base_of_meals/meals_21252/',\n",
       " 'Вторые блюда': 'https://health-diet.ru/base_of_meals/meals_21243/',\n",
       " 'Выпечка': 'https://health-diet.ru/base_of_meals/meals_21249/',\n",
       " 'Гарниры': 'https://health-diet.ru/base_of_meals/meals_21244/',\n",
       " 'Десерты': 'https://health-diet.ru/base_of_meals/meals_21245/',\n",
       " 'Заготовки': 'https://health-diet.ru/base_of_meals/meals_21254/',\n",
       " 'Закуски': 'https://health-diet.ru/base_of_meals/meals_21250/',\n",
       " 'Каши': 'https://health-diet.ru/base_of_meals/meals_21247/',\n",
       " 'Напитки': 'https://health-diet.ru/base_of_meals/meals_21248/',\n",
       " 'Первые блюда': 'https://health-diet.ru/base_of_meals/meals_21242/',\n",
       " 'Салаты': 'https://health-diet.ru/base_of_meals/meals_21241/',\n",
       " 'Соусы и заправки': 'https://health-diet.ru/base_of_meals/meals_21251/',\n",
       " 'Campina': 'https://health-diet.ru/base_of_food/food_108930/',\n",
       " 'Coca-Cola': 'https://health-diet.ru/base_of_food/food_103503/',\n",
       " 'Danone': 'https://health-diet.ru/base_of_food/food_120438/',\n",
       " \"KFC Ростик'c\": 'https://health-diet.ru/base_of_food/food_120566/',\n",
       " \"Lay's\": 'https://health-diet.ru/base_of_food/food_111530/',\n",
       " 'Mars': 'https://health-diet.ru/base_of_food/food_109145/',\n",
       " 'Nestle': 'https://health-diet.ru/base_of_food/food_107024/',\n",
       " 'Subway': 'https://health-diet.ru/base_of_food/food_120802/',\n",
       " 'Ашан': 'https://health-diet.ru/base_of_food/food_100481/',\n",
       " 'Бондюэль': 'https://health-diet.ru/base_of_food/food_102398/',\n",
       " 'Крошка-Картошка': 'https://health-diet.ru/base_of_food/food_120310/',\n",
       " 'Макдоналдс (McDonalds)': 'https://health-diet.ru/base_of_food/food_124912/',\n",
       " 'Пятерочка': 'https://health-diet.ru/base_of_food/food_121338/',\n",
       " 'Роллтон': 'https://health-diet.ru/base_of_food/food_114851/',\n",
       " 'Черкизово': 'https://health-diet.ru/base_of_food/food_124180/',\n",
       " 'Яшкино': 'https://health-diet.ru/base_of_food/food_117741/'}"
      ]
     },
     "execution_count": 209,
     "metadata": {},
     "output_type": "execute_result"
    }
   ],
   "source": [
    "all_categories_dict"
   ]
  },
  {
   "cell_type": "markdown",
   "id": "7754716b",
   "metadata": {},
   "source": [
    "### Tworze i odczyuje plik w formacie json, w ktorym znajduje sie slownik ze wszystkimi kategoriami produktow\n",
    "* `json.dump()` - sluzy do zapisywania pliku w formacie json\n",
    "* `json.load()` - sluzy do odczyty pliku w formacie json"
   ]
  },
  {
   "cell_type": "code",
   "execution_count": 210,
   "id": "9a75c86b",
   "metadata": {},
   "outputs": [],
   "source": [
    "with open(\"all_categories_dict.json\", \"w\") as file:\n",
    "    json.dump(all_categories_dict, file, indent=4, ensure_ascii=False)\n",
    "\n",
    "with open(\"all_categories_dict.json\") as file:\n",
    "    all_categories = json.load(file)"
   ]
  },
  {
   "cell_type": "markdown",
   "id": "a44ac1e0",
   "metadata": {},
   "source": [
    "### W danym przykladzie nie robie parser na cala strone, a tylko na pierwsze 10 elementow (`if counter < 10`)"
   ]
  },
  {
   "cell_type": "code",
   "execution_count": 215,
   "id": "d295fc29",
   "metadata": {},
   "outputs": [],
   "source": [
    "count = 0\n",
    "#zamieniam znaki [\" \", \",\",\"'\",\"-\"] na jeden znak \"_\" dla wiekszej czytelnosci\n",
    "for categories_name, categories_href in all_categories.items():\n",
    "    if count < 10:\n",
    "        rep = [\" \", \",\",\"'\",\"-\"]\n",
    "        for item in rep:\n",
    "            if item in categories_name:\n",
    "                categories_name = categories_name.replace(item,\"_\")\n",
    "        \n",
    "        #dostaje kod dla kadzej strony internetowej\n",
    "        req = requests.get(url = categories_href,headers = headers)\n",
    "        src = req.text\n",
    "        \n",
    "        #zapisuje kazda strone do osobnego pliku w formacie html\n",
    "        with open(f\"data/{count}_{categories_name}.html\", 'w') as file:\n",
    "            file.write(src)\n",
    "        #odczytuje plik z kodem strony   \n",
    "        with open(f\"data/{count}_{categories_name}.html\") as file:\n",
    "            src = file.read()\n",
    "        \n",
    "        #tworze dla kazdej strony nowy obiekt klasy BeaufifulSoap w jakim znajduje sie kod strony\n",
    "        soup = BeautifulSoup(src,'lxml')\n",
    "\n",
    "        #dostaje tytuly tablicy jaka znajduje sie na stronie:\n",
    "        head_table= soup.find(class_= \"mzr-tc-group-table\").find(\"tr\").find_all(\"th\")\n",
    "        for item in head_table:\n",
    "            product = head_table[0].text\n",
    "            kkal = head_table[1].text\n",
    "            proteins = head_table[2].text\n",
    "            fats = head_table[3].text\n",
    "            carbohydrates = head_table[4].text\n",
    "        \n",
    "        #zapisuje tytuly do pliku csv za pomoca writer.writerow()\n",
    "        with open(f\"data/{count}_{categories_name}.csv\",'w', encoding='utf-8') as file:\n",
    "            writer = csv.writer(file)\n",
    "            writer.writerow(\n",
    "                    (\n",
    "                        product,\n",
    "                        kkal,\n",
    "                        proteins,\n",
    "                        fats,\n",
    "                        carbohydrates\n",
    "                    )\n",
    "            )\n",
    "        \n",
    "        #zapisuje wszystkie dane kazdej karegorii\n",
    "        all_products = soup.find(class_= \"mzr-tc-group-table\").find(\"tbody\").find_all(\"tr\")\n",
    "        products_info = []\n",
    "        for item in all_products:\n",
    "            product_tds = item.find_all(\"td\")\n",
    "            title = product_tds[0].find(\"a\").text\n",
    "            kkal = product_tds[1].text\n",
    "            proteins = product_tds[2].text\n",
    "            fats = product_tds[3].text\n",
    "            carbohydrates = product_tds[4].text\n",
    "            \n",
    "            products_info.append(\n",
    "                    {\n",
    "                          \"Title\": title,\n",
    "                          \"Kkal\" : kkal,\n",
    "                          \"Fats\" : fats,\n",
    "                          \"Carbohydrates\" : carbohydrates\n",
    "                    }\n",
    "            )\n",
    "            \n",
    "            #zapisuje wszystkie dane do pliku csv \n",
    "            with open(f\"data/{count}_{categories_name}.csv\", \"a\", encoding='utf-8') as file:\n",
    "                writer = csv.writer(file)\n",
    "                writer.writerow(\n",
    "                    (\n",
    "                        title,\n",
    "                        kkal,\n",
    "                        proteins,\n",
    "                        fats,\n",
    "                        carbohydrates\n",
    "                    )\n",
    "                )\n",
    "            #tworze dla kazdej kategorii osobny plik formaty json\n",
    "            with open(f\"{count}_{categories_name}.json\", \"w\", encoding='utf-8') as file:\n",
    "                json.dump(products_info, file, indent= 4, ensure_ascii=False)\n",
    "    count += 1"
   ]
  },
  {
   "cell_type": "code",
   "execution_count": null,
   "id": "a48c0d17",
   "metadata": {},
   "outputs": [],
   "source": []
  }
 ],
 "metadata": {
  "kernelspec": {
   "display_name": "Python 3 (ipykernel)",
   "language": "python",
   "name": "python3"
  },
  "language_info": {
   "codemirror_mode": {
    "name": "ipython",
    "version": 3
   },
   "file_extension": ".py",
   "mimetype": "text/x-python",
   "name": "python",
   "nbconvert_exporter": "python",
   "pygments_lexer": "ipython3",
   "version": "3.9.12"
  }
 },
 "nbformat": 4,
 "nbformat_minor": 5
}
