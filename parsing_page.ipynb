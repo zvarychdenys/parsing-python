{
 "cells": [
  {
   "cell_type": "markdown",
   "id": "3d821daf",
   "metadata": {},
   "source": [
    "###  dla parsingu stron internetowych musze zainstalowac biblioteke requests"
   ]
  },
  {
   "cell_type": "code",
   "execution_count": 1,
   "id": "1e0d35ae",
   "metadata": {},
   "outputs": [
    {
     "name": "stdout",
     "output_type": "stream",
     "text": [
      "Requirement already satisfied: requests in /opt/anaconda3/lib/python3.9/site-packages (2.27.1)\n",
      "Requirement already satisfied: charset-normalizer~=2.0.0 in /opt/anaconda3/lib/python3.9/site-packages (from requests) (2.0.4)\n",
      "Requirement already satisfied: urllib3<1.27,>=1.21.1 in /opt/anaconda3/lib/python3.9/site-packages (from requests) (1.26.9)\n",
      "Requirement already satisfied: idna<4,>=2.5 in /opt/anaconda3/lib/python3.9/site-packages (from requests) (3.3)\n",
      "Requirement already satisfied: certifi>=2017.4.17 in /opt/anaconda3/lib/python3.9/site-packages (from requests) (2021.10.8)\n",
      "Note: you may need to restart the kernel to use updated packages.\n"
     ]
    }
   ],
   "source": [
    "pip install requests"
   ]
  },
  {
   "cell_type": "code",
   "execution_count": 44,
   "id": "c096ca49",
   "metadata": {},
   "outputs": [],
   "source": [
    "import requests\n",
    "from bs4 import BeautifulSoup\n",
    "import json"
   ]
  },
  {
   "cell_type": "code",
   "execution_count": 11,
   "id": "076c5201",
   "metadata": {},
   "outputs": [
    {
     "data": {
      "text/plain": [
       "<Response [200]>"
      ]
     },
     "execution_count": 11,
     "metadata": {},
     "output_type": "execute_result"
    }
   ],
   "source": [
    "#zapisuje link do strony\n",
    "url = \"https://health-diet.ru/table_calorie/?utm_source=leftMenu&utm_medium=table_calorie\"\n",
    "\n",
    "#tworze headers, dla tego aby pokazac stronie ze nie jestem botem\n",
    "headers = {\n",
    "    'accept': '*/*',\n",
    "    'user-agent': 'Mozilla/5.0 (Macintosh; Intel Mac OS X 10_15_7) AppleWebKit/537.36 (KHTML, like Gecko) Chrome/103.0.0.0 Safari/537.36'\n",
    "}\n",
    "\n",
    "req = requests.get(url, headers=headers) \n",
    "req   # <Response [200]> oznacza ze udalo podlaczyc strone internetowa"
   ]
  },
  {
   "cell_type": "code",
   "execution_count": 32,
   "id": "813d88f3",
   "metadata": {},
   "outputs": [],
   "source": [
    "#zapisuje strone do pliku\n",
    "src = req.text\n",
    "#print(src)\n",
    "\n",
    "#zapisuje plik\n",
    "with open(\"main.html\", \"w\") as file:\n",
    "     file.write(src)"
   ]
  },
  {
   "cell_type": "code",
   "execution_count": 16,
   "id": "11202412",
   "metadata": {},
   "outputs": [],
   "source": [
    "#odczytuje plik:\n",
    "with open(\"main.html\") as file:\n",
    "    scr = file.read()"
   ]
  },
  {
   "cell_type": "code",
   "execution_count": 30,
   "id": "676eaab0",
   "metadata": {},
   "outputs": [],
   "source": [
    "#tworze obiekt klasy BeautifulSoap i jako parametr daje scr, czyli kod storny i lxml \n",
    "soup = BeautifulSoup(scr,'lxml')"
   ]
  },
  {
   "cell_type": "code",
   "execution_count": 42,
   "id": "d46732d2",
   "metadata": {},
   "outputs": [
    {
     "name": "stdout",
     "output_type": "stream",
     "text": [
      "Баранина и дичь :  https://health-diet.ru/base_of_food/food_24507/\n",
      "Бобовые :  https://health-diet.ru/base_of_food/food_24523/\n",
      "Вода и напитки :  https://health-diet.ru/base_of_food/food_24509/\n",
      "Говядина и телятина :  https://health-diet.ru/base_of_food/food_24502/\n",
      "Грибы :  https://health-diet.ru/base_of_food/food_24513/\n",
      "Детское питание :  https://health-diet.ru/base_of_food/food_24526/\n",
      "Жиры и масла :  https://health-diet.ru/base_of_food/food_24515/\n",
      "Кондитерские изделия :  https://health-diet.ru/base_of_food/food_24525/\n",
      "Крупы, мука, макароны :  https://health-diet.ru/base_of_food/food_24522/\n",
      "Молочные продукты :  https://health-diet.ru/base_of_food/food_24519/\n",
      "Напитки алкогольные :  https://health-diet.ru/base_of_food/food_24508/\n",
      "Овощи и зелень :  https://health-diet.ru/base_of_food/food_24512/\n",
      "Орехи и семена :  https://health-diet.ru/base_of_food/food_24517/\n",
      "Полуфабрикаты :  https://health-diet.ru/base_of_food/food_24506/\n",
      "Птица :  https://health-diet.ru/base_of_food/food_24501/\n",
      "Ресторанная еда :  https://health-diet.ru/base_of_food/food_24527/\n",
      "Рыба и морепродукты :  https://health-diet.ru/base_of_food/food_24518/\n",
      "Свинина :  https://health-diet.ru/base_of_food/food_24503/\n",
      "Снеки :  https://health-diet.ru/base_of_food/food_24528/\n",
      "Соки :  https://health-diet.ru/base_of_food/food_24511/\n",
      "Сосиски и колбаса :  https://health-diet.ru/base_of_food/food_24504/\n",
      "Травы, специи и соусы :  https://health-diet.ru/base_of_food/food_24514/\n",
      "Фаст-фуд :  https://health-diet.ru/base_of_food/food_24529/\n",
      "Фрукты и ягоды :  https://health-diet.ru/base_of_food/food_24516/\n",
      "Хлеб и выпечка :  https://health-diet.ru/base_of_food/food_24524/\n",
      "Яйца и продукты из яиц :  https://health-diet.ru/base_of_food/food_24520/\n",
      "Варенье и джемы :  https://health-diet.ru/base_of_meals/meals_21252/\n",
      "Вторые блюда :  https://health-diet.ru/base_of_meals/meals_21243/\n",
      "Выпечка :  https://health-diet.ru/base_of_meals/meals_21249/\n",
      "Гарниры :  https://health-diet.ru/base_of_meals/meals_21244/\n",
      "Десерты :  https://health-diet.ru/base_of_meals/meals_21245/\n",
      "Заготовки :  https://health-diet.ru/base_of_meals/meals_21254/\n",
      "Закуски :  https://health-diet.ru/base_of_meals/meals_21250/\n",
      "Каши :  https://health-diet.ru/base_of_meals/meals_21247/\n",
      "Напитки :  https://health-diet.ru/base_of_meals/meals_21248/\n",
      "Первые блюда :  https://health-diet.ru/base_of_meals/meals_21242/\n",
      "Полуфабрикаты :  https://health-diet.ru/base_of_meals/meals_21253/\n",
      "Салаты :  https://health-diet.ru/base_of_meals/meals_21241/\n",
      "Соусы и заправки :  https://health-diet.ru/base_of_meals/meals_21251/\n",
      "Campina :  https://health-diet.ru/base_of_food/food_108930/\n",
      "Coca-Cola :  https://health-diet.ru/base_of_food/food_103503/\n",
      "Danone :  https://health-diet.ru/base_of_food/food_120438/\n",
      "KFC Ростик'c :  https://health-diet.ru/base_of_food/food_120566/\n",
      "Lay's :  https://health-diet.ru/base_of_food/food_111530/\n",
      "Mars :  https://health-diet.ru/base_of_food/food_109145/\n",
      "Nestle :  https://health-diet.ru/base_of_food/food_107024/\n",
      "Subway :  https://health-diet.ru/base_of_food/food_120802/\n",
      "Ашан :  https://health-diet.ru/base_of_food/food_100481/\n",
      "Бондюэль :  https://health-diet.ru/base_of_food/food_102398/\n",
      "Крошка-Картошка :  https://health-diet.ru/base_of_food/food_120310/\n",
      "Макдоналдс (McDonalds) :  https://health-diet.ru/base_of_food/food_124912/\n",
      "Пятерочка :  https://health-diet.ru/base_of_food/food_121338/\n",
      "Роллтон :  https://health-diet.ru/base_of_food/food_114851/\n",
      "Черкизово :  https://health-diet.ru/base_of_food/food_124180/\n",
      "Яшкино :  https://health-diet.ru/base_of_food/food_117741/\n"
     ]
    }
   ],
   "source": [
    "#tworze pusty dict w jaki bede zapisylal jako klucz kategorie , i jako wartosc link do kategorii\n",
    "all_categories_dict = {}\n",
    "\n",
    "# Odczytuje nazwe do kazdego artykulu i link do niego\n",
    "all_products_hrefs = soup.find_all(class_ = \"mzr-tc-group-item-href\")\n",
    "for item in all_products_hrefs:\n",
    "    item_text = item.text\n",
    "    item_href = \" https://health-diet.ru\" + item.get(\"href\")\n",
    "    all_categories_dict[item_text] = item_href\n",
    "    \n",
    "    print(f'{item_text} : {item_href}')"
   ]
  },
  {
   "cell_type": "markdown",
   "id": "c78c6a03",
   "metadata": {},
   "source": [
    "### Zapisuje `all_categories_dict` w plik json:\n",
    "jako parametr mam:\n",
    "> * `indent = 4` odstep kiedy zapisuje plik, bez niego wszystko bedzie w jeden wiersz\n",
    "> * `ensure_ascii=False` - pozwala uzywac polskie,ukrainskie litery"
   ]
  },
  {
   "cell_type": "code",
   "execution_count": 51,
   "id": "58ab99ea",
   "metadata": {},
   "outputs": [],
   "source": [
    "with open(\"all_categories_dict.json\", \"w\") as file:\n",
    "    json.dump(all_categories_dict, file, indent = 4, ensure_ascii=False)"
   ]
  },
  {
   "cell_type": "markdown",
   "id": "43127d31",
   "metadata": {},
   "source": [
    "### odczytywuje plik json za pomoca `json.load(file)`:"
   ]
  },
  {
   "cell_type": "code",
   "execution_count": 52,
   "id": "9a3247d1",
   "metadata": {},
   "outputs": [],
   "source": [
    "#odczytywuje plik json:\n",
    "with open(\"all_categories_dict.json\") as file:\n",
    "    all_categoris = json.load(file)"
   ]
  },
  {
   "cell_type": "code",
   "execution_count": 53,
   "id": "6289bbe2",
   "metadata": {},
   "outputs": [
    {
     "data": {
      "text/plain": [
       "{'Баранина и дичь': ' https://health-diet.ru/base_of_food/food_24507/',\n",
       " 'Бобовые': ' https://health-diet.ru/base_of_food/food_24523/',\n",
       " 'Вода и напитки': ' https://health-diet.ru/base_of_food/food_24509/',\n",
       " 'Говядина и телятина': ' https://health-diet.ru/base_of_food/food_24502/',\n",
       " 'Грибы': ' https://health-diet.ru/base_of_food/food_24513/',\n",
       " 'Детское питание': ' https://health-diet.ru/base_of_food/food_24526/',\n",
       " 'Жиры и масла': ' https://health-diet.ru/base_of_food/food_24515/',\n",
       " 'Кондитерские изделия': ' https://health-diet.ru/base_of_food/food_24525/',\n",
       " 'Крупы, мука, макароны': ' https://health-diet.ru/base_of_food/food_24522/',\n",
       " 'Молочные продукты': ' https://health-diet.ru/base_of_food/food_24519/',\n",
       " 'Напитки алкогольные': ' https://health-diet.ru/base_of_food/food_24508/',\n",
       " 'Овощи и зелень': ' https://health-diet.ru/base_of_food/food_24512/',\n",
       " 'Орехи и семена': ' https://health-diet.ru/base_of_food/food_24517/',\n",
       " 'Полуфабрикаты': ' https://health-diet.ru/base_of_meals/meals_21253/',\n",
       " 'Птица': ' https://health-diet.ru/base_of_food/food_24501/',\n",
       " 'Ресторанная еда': ' https://health-diet.ru/base_of_food/food_24527/',\n",
       " 'Рыба и морепродукты': ' https://health-diet.ru/base_of_food/food_24518/',\n",
       " 'Свинина': ' https://health-diet.ru/base_of_food/food_24503/',\n",
       " 'Снеки': ' https://health-diet.ru/base_of_food/food_24528/',\n",
       " 'Соки': ' https://health-diet.ru/base_of_food/food_24511/',\n",
       " 'Сосиски и колбаса': ' https://health-diet.ru/base_of_food/food_24504/',\n",
       " 'Травы, специи и соусы': ' https://health-diet.ru/base_of_food/food_24514/',\n",
       " 'Фаст-фуд': ' https://health-diet.ru/base_of_food/food_24529/',\n",
       " 'Фрукты и ягоды': ' https://health-diet.ru/base_of_food/food_24516/',\n",
       " 'Хлеб и выпечка': ' https://health-diet.ru/base_of_food/food_24524/',\n",
       " 'Яйца и продукты из яиц': ' https://health-diet.ru/base_of_food/food_24520/',\n",
       " 'Варенье и джемы': ' https://health-diet.ru/base_of_meals/meals_21252/',\n",
       " 'Вторые блюда': ' https://health-diet.ru/base_of_meals/meals_21243/',\n",
       " 'Выпечка': ' https://health-diet.ru/base_of_meals/meals_21249/',\n",
       " 'Гарниры': ' https://health-diet.ru/base_of_meals/meals_21244/',\n",
       " 'Десерты': ' https://health-diet.ru/base_of_meals/meals_21245/',\n",
       " 'Заготовки': ' https://health-diet.ru/base_of_meals/meals_21254/',\n",
       " 'Закуски': ' https://health-diet.ru/base_of_meals/meals_21250/',\n",
       " 'Каши': ' https://health-diet.ru/base_of_meals/meals_21247/',\n",
       " 'Напитки': ' https://health-diet.ru/base_of_meals/meals_21248/',\n",
       " 'Первые блюда': ' https://health-diet.ru/base_of_meals/meals_21242/',\n",
       " 'Салаты': ' https://health-diet.ru/base_of_meals/meals_21241/',\n",
       " 'Соусы и заправки': ' https://health-diet.ru/base_of_meals/meals_21251/',\n",
       " 'Campina': ' https://health-diet.ru/base_of_food/food_108930/',\n",
       " 'Coca-Cola': ' https://health-diet.ru/base_of_food/food_103503/',\n",
       " 'Danone': ' https://health-diet.ru/base_of_food/food_120438/',\n",
       " \"KFC Ростик'c\": ' https://health-diet.ru/base_of_food/food_120566/',\n",
       " \"Lay's\": ' https://health-diet.ru/base_of_food/food_111530/',\n",
       " 'Mars': ' https://health-diet.ru/base_of_food/food_109145/',\n",
       " 'Nestle': ' https://health-diet.ru/base_of_food/food_107024/',\n",
       " 'Subway': ' https://health-diet.ru/base_of_food/food_120802/',\n",
       " 'Ашан': ' https://health-diet.ru/base_of_food/food_100481/',\n",
       " 'Бондюэль': ' https://health-diet.ru/base_of_food/food_102398/',\n",
       " 'Крошка-Картошка': ' https://health-diet.ru/base_of_food/food_120310/',\n",
       " 'Макдоналдс (McDonalds)': ' https://health-diet.ru/base_of_food/food_124912/',\n",
       " 'Пятерочка': ' https://health-diet.ru/base_of_food/food_121338/',\n",
       " 'Роллтон': ' https://health-diet.ru/base_of_food/food_114851/',\n",
       " 'Черкизово': ' https://health-diet.ru/base_of_food/food_124180/',\n",
       " 'Яшкино': ' https://health-diet.ru/base_of_food/food_117741/'}"
      ]
     },
     "execution_count": 53,
     "metadata": {},
     "output_type": "execute_result"
    }
   ],
   "source": [
    "all_categoris"
   ]
  },
  {
   "cell_type": "code",
   "execution_count": null,
   "id": "77cc01da",
   "metadata": {},
   "outputs": [],
   "source": []
  }
 ],
 "metadata": {
  "kernelspec": {
   "display_name": "Python 3 (ipykernel)",
   "language": "python",
   "name": "python3"
  },
  "language_info": {
   "codemirror_mode": {
    "name": "ipython",
    "version": 3
   },
   "file_extension": ".py",
   "mimetype": "text/x-python",
   "name": "python",
   "nbconvert_exporter": "python",
   "pygments_lexer": "ipython3",
   "version": "3.9.12"
  }
 },
 "nbformat": 4,
 "nbformat_minor": 5
}
