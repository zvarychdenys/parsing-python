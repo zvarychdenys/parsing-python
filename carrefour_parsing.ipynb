{
 "cells": [
  {
   "cell_type": "code",
   "execution_count": 1,
   "id": "8bbed28e",
   "metadata": {},
   "outputs": [],
   "source": [
    "#instaluje wszystkie niezbedne biblioteki\n",
    "from bs4 import BeautifulSoup\n",
    "import requests\n",
    "import json"
   ]
  },
  {
   "cell_type": "code",
   "execution_count": 2,
   "id": "109672a3",
   "metadata": {},
   "outputs": [],
   "source": [
    "url = 'https://www.carrefour.pl/'\n",
    "\n",
    "headers = {\n",
    "    \"accept\": \"*/*\",\n",
    "    \"user-agent\": \"Mozilla/5.0 (Macintosh; Intel Mac OS X 10_15_7) AppleWebKit/537.36 (KHTML, like Gecko) Chrome/103.0.0.0 Safari/537.36\"\n",
    "}\n",
    "\n",
    "\n",
    "req = requests.get(url,headers)\n",
    "src1 = req.text"
   ]
  },
  {
   "cell_type": "code",
   "execution_count": 4,
   "id": "080930b1",
   "metadata": {},
   "outputs": [],
   "source": [
    "with open(\"carrefour_page.html\", \"w\") as file:\n",
    "    file.write(src1)\n",
    "    \n",
    "with open(\"carrefour_page.html\") as file:\n",
    "    scr2 = file.read()"
   ]
  },
  {
   "cell_type": "code",
   "execution_count": 5,
   "id": "e503b85b",
   "metadata": {},
   "outputs": [],
   "source": [
    "soup = BeautifulSoup(scr2,\"lxml\")"
   ]
  },
  {
   "cell_type": "code",
   "execution_count": 6,
   "id": "0e34f6ce",
   "metadata": {},
   "outputs": [],
   "source": [
    "all_categories_dict = {}\n",
    "all_categories_name = soup.find_all(\"a\", class_ = \"gtm-cat\")\n",
    "for item in all_categories_name:\n",
    "    item_text = item.text\n",
    "    item_hrefs = \"https://www.carrefour.pl\" + item.get(\"href\")\n",
    "    all_categories_dict[item_text] = item_hrefs"
   ]
  },
  {
   "cell_type": "code",
   "execution_count": 7,
   "id": "0059fd7b",
   "metadata": {},
   "outputs": [],
   "source": [
    "with open(\"categories_carrefour.json\", 'w') as file:\n",
    "    json.dump(all_categories_dict,file, ensure_ascii=False,indent=4)\n",
    "\n",
    "with open(\"categories_carrefour.json\") as file:\n",
    "    all_categories_dict = json.load(file)"
   ]
  },
  {
   "cell_type": "code",
   "execution_count": 8,
   "id": "65d16a99",
   "metadata": {},
   "outputs": [
    {
     "data": {
      "text/plain": [
       "{'Artykuły spożywcze': 'https://www.carrefour.pl/artykuly-spozywcze',\n",
       " 'Mleko, nabiał, jaja': 'https://www.carrefour.pl/mleko-nabial-jaja',\n",
       " 'Napoje': 'https://www.carrefour.pl/napoje',\n",
       " 'Drogeria, kosmetyki i zdrowie': 'https://www.carrefour.pl/drogeria-kosmetyki-i-zdrowie',\n",
       " 'Zdrowa żywność': 'https://www.carrefour.pl/zdrowa-zywnosc',\n",
       " 'Owoce, warzywa, zioła': 'https://www.carrefour.pl/owoce-warzywa-ziola',\n",
       " 'Mięso': 'https://www.carrefour.pl/mieso',\n",
       " 'Mrożonki': 'https://www.carrefour.pl/mrozonki',\n",
       " 'Wędliny, kiełbasy': 'https://www.carrefour.pl/wedliny-kielbasy',\n",
       " 'Piekarnia, ciastkarnia': 'https://www.carrefour.pl/piekarnia-ciastkarnia',\n",
       " 'Ryby i owoce morza': 'https://www.carrefour.pl/ryby-i-owoce-morza',\n",
       " 'Dziecko': 'https://www.carrefour.pl/dziecko',\n",
       " 'Dla zwierząt': 'https://www.carrefour.pl/dla-zwierzat',\n",
       " 'Dania gotowe i przystawki': 'https://www.carrefour.pl/dania-gotowe-i-przystawki',\n",
       " 'Zakupy niecodzienne': 'https://www.carrefour.pl/zakupy-niecodzienne'}"
      ]
     },
     "execution_count": 8,
     "metadata": {},
     "output_type": "execute_result"
    }
   ],
   "source": [
    "all_categories_dict"
   ]
  },
  {
   "cell_type": "code",
   "execution_count": 38,
   "id": "f0fd4192",
   "metadata": {},
   "outputs": [
    {
     "name": "stdout",
     "output_type": "stream",
     "text": [
      "EkoWital Ekologiczna passata pomidorowa 680 g\n",
      "Mlekovita Twaróg bez laktozy półtłusty 230 g\n",
      "Valio PROfeel Pudding proteinowy o smaku karmelowym 180 g\n",
      "Finuu Miks tłuszczowy do smarowania bez laktozy 200 g\n",
      "Mlekovita Gouda Ser bez laktozy w plastrach 150 g\n",
      "Mlekovita Wydojone Mleko bez laktozy 2,0% 1 l\n",
      "BioSaurus Ekologiczne pieczone chrupki kukurydziane o smaku ketchupowym 50 g\n",
      "Mlekovita Sokół Ser bez laktozy w plastrach 150 g\n",
      "Mlekovita Masło Polskie ekstra bez laktozy 82% 200 g\n",
      "Mlekovita Wydojone Mleko bez laktozy 3,2% 1 l\n",
      "BioSaurus Ekologiczne pieczone chrupki kukurydziane o smaku soli morskiej 50 g\n",
      "Mlekovita Serek homogenizowany Polski bez laktozy waniliowy 150 g\n",
      "Masło ekstra z Łukowa bez laktozy 200 g\n",
      "Mamut Biszkopty wrocławskie bez dodatku cukrów 100 g\n",
      "Łaciaty Jogurt pitny jeżyna malina bez laktozy 250 ml\n",
      "Robico Kefir bez laktozy 1,5% 400 g\n",
      "Melvit Płatki owsiane górskie 500 g\n",
      "Carrefour Bio Syrop z agawy 350 g\n",
      "BioSaurus Ekologiczne pieczone chrupki kukurydziane o smaku serowym 50 g\n",
      "Łaciaty Jogurt pitny ananas kokos bez laktozy 250 ml\n",
      "Sante Kotlety sojowe a la schabowe 100 g\n",
      "Dobra Kaloria Baton owocowy chrupiący orzech 35 g\n",
      "Sante Otręby owsiane 150 g\n",
      "Sante Sezam 300 g\n",
      "Mlekovita Jogurt Polski naturalny bez laktozy 350 g\n",
      "Dobra Kaloria Baton owocowy kokos & orzech 35 g\n",
      "Mlekovita Lavalti Ser bez laktozy w plastrach 150 g\n",
      "Carrefour Veggie Hummus z solą morską 190 g\n",
      "Mlekpol Mazurski Smak Twaróg półtłusty 250 g\n",
      "Ania Mini ania jungle z czekoladą Bio herbatniki Ekologiczne płatki śniadaniowe 100 g\n",
      "Łaciaty Jogurt pitny truskawka czarna porzeczka bez laktozy 250 ml\n",
      "Ania Bio herbatniki okrągłe 100 g\n",
      "Ania Gofry naturalne 65 g\n",
      "Valio PROfeel Pudding proteinowy o smaku czekoladowym 180 g\n",
      "Sierpc Ser Pikserki 135 g\n",
      "Carrefour Veggie Pasta słonecznikowa z pomidorami i curry 180 g\n",
      "Ania Mini ania jungle kakaowe Bio herbatniki Ekologiczne płatki śniadaniowe 100 g\n",
      "Sante Pasztet sojowy z pomidorami 113 g\n",
      "Ania Ciasteczka owsiane migdałowe 150 g\n",
      "Sam Mills Makaron bezglutenowy spaghetti 500 g\n",
      "EcoMil Napój migdałowy bez cukru 1 l\n",
      "NaturAvena Ekologiczna kasza jaglana 1 kg\n",
      "Carrefour Bio Napój sojowy 1 l\n",
      "Werther's Original Cukierki śmietankowe bez cukru 42 g\n",
      "Sante Go On Energy Baton z orzeszkami arachidowymi i karmelem oblany mleczną czekoladą 50 g\n",
      "EcoMil Napój kokosowy bez cukru 1 l\n",
      "Carrefour Veggie Pasta słonecznikowa z czosnkiem niedźwiedzim 180 g\n",
      "Sante Go On Protein Baton waniliowy w czekoladzie deserowej 50 g\n",
      "Inka Napój ryżowy z wapniem 1 l\n",
      "Carrefour Bio Makaron spaghetti 500 g\n",
      "Ania Ciasteczka owsiane naturalne 150 g\n",
      "Sante Otręby pszenne 150 g\n",
      "Sante Fit Ciasteczka zbożowe z morelą 300 g (6 x 50 g)\n",
      "Sante Go On Protein Baton z żurawiną i jagodami goji w czekoladzie deserowej 50 g\n",
      "Sante Go On Protein Baton kakaowy w czekoladzie deserowej 50 g\n",
      "Carrefour Bio Przecier pomidorowy 350 g\n",
      "Werther's Original Cukierki śmietankowe bez cukru o smaku czekoladowym 42 g\n",
      "Sante Go On Krem orzechowy z kawałkami orzechów 500 g\n",
      "Sante Go On Vitamin Baton kokosowy z L-karnityną magnezem i witaminami oblany mleczną czekoladą 50 g\n",
      "Dobra Kaloria Baton owocowy solony orzech 35 g\n"
     ]
    }
   ],
   "source": [
    "count = 0\n",
    "for caterogies_name, categories_href in all_categories_dict.items():\n",
    "    if count < 1:\n",
    "        req = requests.get(categories_href,headers = headers)\n",
    "        scr_pages = req.text\n",
    "        \n",
    "        with open(f\"data_carrefour/{count}_{caterogies_name}.html\", \"w\") as file:\n",
    "            file.write(scr_pages)\n",
    "        \n",
    "        with open(f\"data_carrefour/{count}_{caterogies_name}.html\") as file:\n",
    "            scr_page = file.read()\n",
    "        \n",
    "        soup = BeautifulSoup(scr_page,'lxml')\n",
    "        \n",
    "        all_subcategories_dict = {}\n",
    "        subcategories_names = soup.find_all(\"p\", class_ = \"MuiTypography-alignLeft\")\n",
    "        subcategories_hrefs = soup.find_all(\"a\", class_ = \"MuiButton-fullWidth\")\n",
    "        \n",
    "        all_subcategories_names = []\n",
    "        for subcategory_name in subcategories_names:\n",
    "            subcategory_name = subcategory_name.text\n",
    "            all_subcategories_names.append(subcategory_name)\n",
    "        \n",
    "        all_subcategories_hrefs = []\n",
    "        for subcategory_href in subcategories_hrefs:\n",
    "            subcategory_href = \"https://www.carrefour.pl\" + subcategory_href.get(\"href\")\n",
    "            all_subcategories_hrefs.append(subcategory_href)\n",
    "            \n",
    "        \n",
    "        #usywam dwa ostatnie elementy \"Lista kategorii', 'Ustawienia cookies\" z listy\n",
    "        all_subcategories_names = all_subcategories_names[:-2]\n",
    "        \n",
    "        #usywam pierwszy elementy z listy linkow\n",
    "        all_subcategories_hrefs = all_subcategories_hrefs[1:]\n",
    "        \n",
    "        #tworze slownik w za pomoca dwoch list\n",
    "        all_subcategories_dict = {all_subcategories_names[i]: all_subcategories_hrefs[i] \\\n",
    "                                  for i in range(len(all_subcategories_names))}\n",
    "        \n",
    "        \n",
    "        with open(f\"data_carrefour/json_categories/{count}_{caterogies_name}.json\", 'w') as file:\n",
    "            json.dump(all_subcategories_dict,file, ensure_ascii=False,indent=4)\n",
    "        \n",
    "        count_sub = 0\n",
    "        for subcategories_names,subcategories_hrefs in all_subcategories_dict.items():\n",
    "            if count_sub < 1:\n",
    "                url = subcategories_hrefs\n",
    "                req = requests.get(url,headers = headers)\n",
    "                src_subcategories = req.text\n",
    "\n",
    "                with open(f\"data_carrefour/html sub/{count}_{caterogies_name}.html\", \"w\") as file:\n",
    "                    file.write(src_subcategories)\n",
    "\n",
    "                with open(f\"data_carrefour/html sub/{count}_{caterogies_name}.html\") as file:\n",
    "                    src_subcategories = file.read()\n",
    "\n",
    "                soup_subcat = BeautifulSoup(src_subcategories,'lxml')\n",
    "\n",
    "                product_name = soup_subcat.find_all(\"a\", class_ = \"jss322\")\n",
    "                for item in product_name:\n",
    "                    print(item.text)\n",
    "            count_sub += 1\n",
    "    count += 1"
   ]
  },
  {
   "cell_type": "code",
   "execution_count": null,
   "id": "f029c9a3",
   "metadata": {},
   "outputs": [],
   "source": []
  }
 ],
 "metadata": {
  "kernelspec": {
   "display_name": "Python 3 (ipykernel)",
   "language": "python",
   "name": "python3"
  },
  "language_info": {
   "codemirror_mode": {
    "name": "ipython",
    "version": 3
   },
   "file_extension": ".py",
   "mimetype": "text/x-python",
   "name": "python",
   "nbconvert_exporter": "python",
   "pygments_lexer": "ipython3",
   "version": "3.9.12"
  }
 },
 "nbformat": 4,
 "nbformat_minor": 5
}
