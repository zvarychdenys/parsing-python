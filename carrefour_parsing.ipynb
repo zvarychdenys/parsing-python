{
 "cells": [
  {
   "cell_type": "code",
   "execution_count": 70,
   "id": "8bbed28e",
   "metadata": {},
   "outputs": [],
   "source": [
    "from bs4 import BeautifulSoup\n",
    "import requests\n",
    "import json"
   ]
  },
  {
   "cell_type": "code",
   "execution_count": 60,
   "id": "109672a3",
   "metadata": {},
   "outputs": [],
   "source": [
    "url = 'https://www.carrefour.pl/'\n",
    "\n",
    "req = requests.get(url,headers)\n",
    "src1 = req.text\n",
    "\n",
    "soup = BeautifulSoup(src1,\"lxml\")"
   ]
  },
  {
   "cell_type": "code",
   "execution_count": 15,
   "id": "080930b1",
   "metadata": {},
   "outputs": [],
   "source": [
    "with open('carrefour.html', 'w') as file:\n",
    "    file.write(src1)\n",
    "    \n",
    "with open('carrefour.html') as file:\n",
    "    src = file.read()"
   ]
  },
  {
   "cell_type": "code",
   "execution_count": 51,
   "id": "073210cc",
   "metadata": {
    "scrolled": true
   },
   "outputs": [
    {
     "name": "stdout",
     "output_type": "stream",
     "text": [
      "Artykuły spożywcze\n",
      "Mleko, nabiał, jaja\n",
      "Napoje\n",
      "Drogeria, kosmetyki i zdrowie\n",
      "Zdrowa żywność\n",
      "Owoce, warzywa, zioła\n",
      "Mięso\n",
      "Mrożonki\n",
      "Wędliny, kiełbasy\n",
      "Piekarnia, ciastkarnia\n",
      "Ryby i owoce morza\n",
      "Dziecko\n",
      "Dla zwierząt\n",
      "Dania gotowe i przystawki\n",
      "Zakupy niecodzienne\n"
     ]
    }
   ],
   "source": [
    "all_categories = soup.find_all(\"div\", class_ =\"MuiTypography-root jss279 MuiTypography-h3\")\n",
    "for categories in all_categories:\n",
    "    print(categories.text)"
   ]
  },
  {
   "cell_type": "code",
   "execution_count": 68,
   "id": "0e34f6ce",
   "metadata": {},
   "outputs": [],
   "source": [
    "all_categories_dict = {}\n",
    "all_categories_name = soup.find_all(\"a\", class_ = \"gtm-cat\")\n",
    "for item in all_categories_name:\n",
    "    item_text = item.text\n",
    "    item_hrefs = \"https://www.carrefour.pl\" + item.get(\"href\")\n",
    "    all_categories_dict[item_text] = item_hrefs"
   ]
  },
  {
   "cell_type": "code",
   "execution_count": 79,
   "id": "0059fd7b",
   "metadata": {},
   "outputs": [],
   "source": [
    "with open(\"categories_carrefour.json\", 'w') as file:\n",
    "    json.dump(all_categories_dict,file, ensure_ascii=False,indent=4)\n",
    "\n",
    "with open(\"categories_carrefour.json\") as file:\n",
    "    all_categories_dict = json.load(file)"
   ]
  },
  {
   "cell_type": "code",
   "execution_count": 80,
   "id": "65d16a99",
   "metadata": {},
   "outputs": [
    {
     "data": {
      "text/plain": [
       "{'Artykuły spożywcze': 'https://www.carrefour.pl/artykuly-spozywcze',\n",
       " 'Mleko, nabiał, jaja': 'https://www.carrefour.pl/mleko-nabial-jaja',\n",
       " 'Napoje': 'https://www.carrefour.pl/napoje',\n",
       " 'Drogeria, kosmetyki i zdrowie': 'https://www.carrefour.pl/drogeria-kosmetyki-i-zdrowie',\n",
       " 'Zdrowa żywność': 'https://www.carrefour.pl/zdrowa-zywnosc',\n",
       " 'Owoce, warzywa, zioła': 'https://www.carrefour.pl/owoce-warzywa-ziola',\n",
       " 'Mięso': 'https://www.carrefour.pl/mieso',\n",
       " 'Mrożonki': 'https://www.carrefour.pl/mrozonki',\n",
       " 'Wędliny, kiełbasy': 'https://www.carrefour.pl/wedliny-kielbasy',\n",
       " 'Piekarnia, ciastkarnia': 'https://www.carrefour.pl/piekarnia-ciastkarnia',\n",
       " 'Ryby i owoce morza': 'https://www.carrefour.pl/ryby-i-owoce-morza',\n",
       " 'Dziecko': 'https://www.carrefour.pl/dziecko',\n",
       " 'Dla zwierząt': 'https://www.carrefour.pl/dla-zwierzat',\n",
       " 'Dania gotowe i przystawki': 'https://www.carrefour.pl/dania-gotowe-i-przystawki',\n",
       " 'Zakupy niecodzienne': 'https://www.carrefour.pl/zakupy-niecodzienne'}"
      ]
     },
     "execution_count": 80,
     "metadata": {},
     "output_type": "execute_result"
    }
   ],
   "source": [
    "all_categories_dict"
   ]
  },
  {
   "cell_type": "code",
   "execution_count": null,
   "id": "f0fd4192",
   "metadata": {},
   "outputs": [],
   "source": []
  }
 ],
 "metadata": {
  "kernelspec": {
   "display_name": "Python 3 (ipykernel)",
   "language": "python",
   "name": "python3"
  },
  "language_info": {
   "codemirror_mode": {
    "name": "ipython",
    "version": 3
   },
   "file_extension": ".py",
   "mimetype": "text/x-python",
   "name": "python",
   "nbconvert_exporter": "python",
   "pygments_lexer": "ipython3",
   "version": "3.9.12"
  }
 },
 "nbformat": 4,
 "nbformat_minor": 5
}
