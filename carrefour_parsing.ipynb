{
 "cells": [
  {
   "cell_type": "code",
   "execution_count": 2,
   "id": "8bbed28e",
   "metadata": {},
   "outputs": [],
   "source": [
    "#instaluje wszystkie niezbedne biblioteki\n",
    "from bs4 import BeautifulSoup\n",
    "import requests\n",
    "import json"
   ]
  },
  {
   "cell_type": "code",
   "execution_count": 3,
   "id": "109672a3",
   "metadata": {},
   "outputs": [],
   "source": [
    "url = 'https://www.carrefour.pl/'\n",
    "\n",
    "headers = {\n",
    "    \"accept\": \"*/*\",\n",
    "    \"user-agent\": \"Mozilla/5.0 (Macintosh; Intel Mac OS X 10_15_7) AppleWebKit/537.36 (KHTML, like Gecko) Chrome/103.0.0.0 Safari/537.36\"\n",
    "}\n",
    "\n",
    "\n",
    "req = requests.get(url,headers)\n",
    "src1 = req.text"
   ]
  },
  {
   "cell_type": "code",
   "execution_count": 4,
   "id": "080930b1",
   "metadata": {},
   "outputs": [],
   "source": [
    "with open(\"carrefour_page.html\", \"w\") as file:\n",
    "    file.write(src1)\n",
    "    \n",
    "with open(\"carrefour_page.html\") as file:\n",
    "    scr2 = file.read()"
   ]
  },
  {
   "cell_type": "code",
   "execution_count": 5,
   "id": "e503b85b",
   "metadata": {},
   "outputs": [],
   "source": [
    "soup = BeautifulSoup(scr2,\"lxml\")"
   ]
  },
  {
   "cell_type": "code",
   "execution_count": 6,
   "id": "0e34f6ce",
   "metadata": {},
   "outputs": [],
   "source": [
    "all_categories_dict = {}\n",
    "all_categories_name = soup.find_all(\"a\", class_ = \"gtm-cat\")\n",
    "for item in all_categories_name:\n",
    "    item_text = item.text\n",
    "    item_hrefs = \"https://www.carrefour.pl\" + item.get(\"href\")\n",
    "    all_categories_dict[item_text] = item_hrefs"
   ]
  },
  {
   "cell_type": "code",
   "execution_count": 7,
   "id": "0059fd7b",
   "metadata": {},
   "outputs": [],
   "source": [
    "with open(\"categories_carrefour.json\", 'w') as file:\n",
    "    json.dump(all_categories_dict,file, ensure_ascii=False,indent=4)\n",
    "\n",
    "with open(\"categories_carrefour.json\") as file:\n",
    "    all_categories_dict = json.load(file)"
   ]
  },
  {
   "cell_type": "code",
   "execution_count": 8,
   "id": "65d16a99",
   "metadata": {},
   "outputs": [
    {
     "data": {
      "text/plain": [
       "{'Artykuły spożywcze': 'https://www.carrefour.pl/artykuly-spozywcze',\n",
       " 'Mleko, nabiał, jaja': 'https://www.carrefour.pl/mleko-nabial-jaja',\n",
       " 'Napoje': 'https://www.carrefour.pl/napoje',\n",
       " 'Drogeria, kosmetyki i zdrowie': 'https://www.carrefour.pl/drogeria-kosmetyki-i-zdrowie',\n",
       " 'Zdrowa żywność': 'https://www.carrefour.pl/zdrowa-zywnosc',\n",
       " 'Owoce, warzywa, zioła': 'https://www.carrefour.pl/owoce-warzywa-ziola',\n",
       " 'Mięso': 'https://www.carrefour.pl/mieso',\n",
       " 'Mrożonki': 'https://www.carrefour.pl/mrozonki',\n",
       " 'Wędliny, kiełbasy': 'https://www.carrefour.pl/wedliny-kielbasy',\n",
       " 'Piekarnia, ciastkarnia': 'https://www.carrefour.pl/piekarnia-ciastkarnia',\n",
       " 'Ryby i owoce morza': 'https://www.carrefour.pl/ryby-i-owoce-morza',\n",
       " 'Dziecko': 'https://www.carrefour.pl/dziecko',\n",
       " 'Dla zwierząt': 'https://www.carrefour.pl/dla-zwierzat',\n",
       " 'Dania gotowe i przystawki': 'https://www.carrefour.pl/dania-gotowe-i-przystawki',\n",
       " 'Zakupy niecodzienne': 'https://www.carrefour.pl/zakupy-niecodzienne'}"
      ]
     },
     "execution_count": 8,
     "metadata": {},
     "output_type": "execute_result"
    }
   ],
   "source": [
    "all_categories_dict"
   ]
  },
  {
   "cell_type": "code",
   "execution_count": 115,
   "id": "f0fd4192",
   "metadata": {},
   "outputs": [],
   "source": [
    "count = 0\n",
    "for caterogies_name, categories_href in all_categories_dict.items():\n",
    "    if count < 3:\n",
    "        req = requests.get(categories_href,headers = headers)\n",
    "        scr_pages = req.text\n",
    "        \n",
    "        with open(f\"data_carrefour/{count}_{caterogies_name}.html\", \"w\") as file:\n",
    "            file.write(scr_pages)\n",
    "        \n",
    "        with open(f\"data_carrefour/{count}_{caterogies_name}.html\") as file:\n",
    "            scr_page = file.read()\n",
    "        \n",
    "        soup = BeautifulSoup(scr_page,'lxml')\n",
    "        \n",
    "        all_subcategories_dict = {}\n",
    "        subcategories_names = soup.find_all(\"p\", class_ = \"MuiTypography-alignLeft\")\n",
    "        subcategories_hrefs = soup.find_all(\"a\", class_ = \"MuiButton-fullWidth\")\n",
    "        \n",
    "        all_subcategories_names = []\n",
    "        for subcategory_name in subcategories_names:\n",
    "            subcategory_name = subcategory_name.text\n",
    "            all_subcategories_names.append(subcategory_name)\n",
    "        \n",
    "        all_subcategories_hrefs = []\n",
    "        for subcategory_href in subcategories_hrefs:\n",
    "            subcategory_href = \"https://www.carrefour.pl\" + subcategory_href.get(\"href\")\n",
    "            all_subcategories_hrefs.append(subcategory_href)\n",
    "            \n",
    "        \n",
    "        #usywam dwa ostatnie elementy \"Lista kategorii', 'Ustawienia cookies\" z listy\n",
    "        all_subcategories_names = all_subcategories_names[:-2]\n",
    "        \n",
    "        #usywam pierwszy elementy z listy linkow\n",
    "        all_subcategories_hrefs = all_subcategories_hrefs[1:]\n",
    "        \n",
    "        #tworze slownik w za pomoca dwoch list\n",
    "        all_subcategories_dict = {all_subcategories_names[i]: all_subcategories_hrefs[i] \\\n",
    "                                  for i in range(len(all_subcategories_names))}\n",
    "        \n",
    "        \n",
    "        with open(f\"data_carrefour/json_categories/{count}_{caterogies_name}.json\", 'w') as file:\n",
    "            json.dump(all_subcategories_dict,file, ensure_ascii=False,indent=4)\n",
    "    \n",
    "    count += 1"
   ]
  },
  {
   "cell_type": "code",
   "execution_count": null,
   "id": "44a5bb78",
   "metadata": {},
   "outputs": [],
   "source": []
  }
 ],
 "metadata": {
  "kernelspec": {
   "display_name": "Python 3 (ipykernel)",
   "language": "python",
   "name": "python3"
  },
  "language_info": {
   "codemirror_mode": {
    "name": "ipython",
    "version": 3
   },
   "file_extension": ".py",
   "mimetype": "text/x-python",
   "name": "python",
   "nbconvert_exporter": "python",
   "pygments_lexer": "ipython3",
   "version": "3.9.12"
  }
 },
 "nbformat": 4,
 "nbformat_minor": 5
}
