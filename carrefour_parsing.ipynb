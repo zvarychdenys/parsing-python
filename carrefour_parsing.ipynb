{
 "cells": [
  {
   "cell_type": "code",
   "execution_count": 2,
   "id": "8bbed28e",
   "metadata": {},
   "outputs": [],
   "source": [
    "from bs4 import BeautifulSoup\n",
    "import requests"
   ]
  },
  {
   "cell_type": "code",
   "execution_count": 42,
   "id": "109672a3",
   "metadata": {},
   "outputs": [
    {
     "data": {
      "text/plain": [
       "str"
      ]
     },
     "execution_count": 42,
     "metadata": {},
     "output_type": "execute_result"
    }
   ],
   "source": [
    "url = 'https://www.carrefour.pl/'\n",
    "\n",
    "headers = {\n",
    "    \"accept\": \"*/*\",\n",
    "    \"User-Agent\" : \"Mozilla/5.0 (Linux; Android 6.0; Nexus 5 Build/MRA58N) AppleWebKit/537.36 (KHTML, like Gecko) Chrome/103.0.0.0 Mobile Safari/537.36\"\n",
    "}\n",
    "\n",
    "req = requests.get(url,headers = headers)\n",
    "src1 = req.text\n",
    "\n",
    "soup = BeautifulSoup(src, 'lxml')\n",
    "type(src1)"
   ]
  },
  {
   "cell_type": "code",
   "execution_count": 33,
   "id": "6d431524",
   "metadata": {},
   "outputs": [],
   "source": [
    "with open(\"carrefour.html\", 'w') as file:\n",
    "    file.write(src)\n",
    "    \n",
    "with open(\"carrefour.html\") as file:\n",
    "    src = file.read()"
   ]
  },
  {
   "cell_type": "code",
   "execution_count": 123,
   "id": "073210cc",
   "metadata": {
    "scrolled": true
   },
   "outputs": [
    {
     "name": "stdout",
     "output_type": "stream",
     "text": [
      "Artykuły spożywcze\n",
      "Mleko, nabiał, jaja\n",
      "Napoje\n",
      "Drogeria, kosmetyki i zdrowie\n",
      "Zdrowa żywność\n",
      "Owoce, warzywa, zioła\n",
      "Mięso\n",
      "Mrożonki\n",
      "Wędliny, kiełbasy\n",
      "Piekarnia, ciastkarnia\n",
      "Ryby i owoce morza\n",
      "Dziecko\n",
      "Dla zwierząt\n",
      "Dania gotowe i przystawki\n",
      "Zakupy niecodzienne\n"
     ]
    }
   ],
   "source": [
    "\n",
    "all_categories_dict ={}\n",
    "rep = [\" \", \",\",\"'\",\"-\"]\n",
    "all_categories = soup.find_all(\"div\", class_ =\"MuiTypography-root jss279 MuiTypography-h3\")\n",
    "for categories in all_categories:\n",
    "    print(categories.text)\n"
   ]
  },
  {
   "cell_type": "code",
   "execution_count": 138,
   "id": "9489ecbb",
   "metadata": {},
   "outputs": [],
   "source": [
    "all_categories2 = soup.find('div',class_ = \"MuiButtonBase-root jss1298 gtm-cat\")\n",
    "all_categories2"
   ]
  },
  {
   "cell_type": "code",
   "execution_count": null,
   "id": "4ae591f4",
   "metadata": {},
   "outputs": [],
   "source": []
  }
 ],
 "metadata": {
  "kernelspec": {
   "display_name": "Python 3 (ipykernel)",
   "language": "python",
   "name": "python3"
  },
  "language_info": {
   "codemirror_mode": {
    "name": "ipython",
    "version": 3
   },
   "file_extension": ".py",
   "mimetype": "text/x-python",
   "name": "python",
   "nbconvert_exporter": "python",
   "pygments_lexer": "ipython3",
   "version": "3.9.12"
  }
 },
 "nbformat": 4,
 "nbformat_minor": 5
}
