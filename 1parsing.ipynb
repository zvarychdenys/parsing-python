{
 "cells": [
  {
   "cell_type": "markdown",
   "id": "eb372eb7",
   "metadata": {},
   "source": [
    "# Biblioteki dla parsingu na Pythonie"
   ]
  },
  {
   "cell_type": "code",
   "execution_count": 1,
   "id": "245d5713",
   "metadata": {},
   "outputs": [
    {
     "name": "stdout",
     "output_type": "stream",
     "text": [
      "Requirement already satisfied: beautifulsoup4 in /opt/anaconda3/lib/python3.9/site-packages (4.11.1)\n",
      "Requirement already satisfied: soupsieve>1.2 in /opt/anaconda3/lib/python3.9/site-packages (from beautifulsoup4) (2.3.1)\n",
      "Note: you may need to restart the kernel to use updated packages.\n"
     ]
    }
   ],
   "source": [
    "pip install beautifulsoup4"
   ]
  },
  {
   "cell_type": "code",
   "execution_count": 8,
   "id": "e50cf3ea",
   "metadata": {},
   "outputs": [
    {
     "name": "stdout",
     "output_type": "stream",
     "text": [
      "Requirement already satisfied: lxml in /opt/anaconda3/lib/python3.9/site-packages (4.8.0)\n",
      "Note: you may need to restart the kernel to use updated packages.\n"
     ]
    }
   ],
   "source": [
    "pip install lxml"
   ]
  },
  {
   "cell_type": "code",
   "execution_count": 3,
   "id": "4d343b63",
   "metadata": {},
   "outputs": [],
   "source": [
    "from bs4 import BeautifulSoup"
   ]
  },
  {
   "cell_type": "markdown",
   "id": "33d5e5f0",
   "metadata": {},
   "source": [
    "### Otwieram file html dla przykaldu"
   ]
  },
  {
   "cell_type": "code",
   "execution_count": 4,
   "id": "306d5dd0",
   "metadata": {},
   "outputs": [],
   "source": [
    "with open(\"index.html\") as file:\n",
    "    src = file.read()\n",
    "\n",
    "#print(scr)\n",
    "\n",
    "#tworze obiekt klasa BeaufifulSoup\n",
    "soup = BeautifulSoup(src,'lxml')"
   ]
  },
  {
   "cell_type": "code",
   "execution_count": 5,
   "id": "5fe7e019",
   "metadata": {},
   "outputs": [
    {
     "name": "stdout",
     "output_type": "stream",
     "text": [
      "<title>Главная страница блога</title>\n",
      "Главная страница блога\n",
      "Главная страница блога\n"
     ]
    }
   ],
   "source": [
    "# Kilka przykladow jak sciagnac title z html strony\n",
    "title = soup.title\n",
    "print(title)\n",
    "print(title.text)\n",
    "print(title.string)"
   ]
  },
  {
   "cell_type": "markdown",
   "id": "70ba2b6e",
   "metadata": {},
   "source": [
    "#### Metody `find()` , `find_all()` \n",
    "___\n",
    "metoda `find()`- szuka i odbiera dane piewszego elementy jakie znalazla\n",
    "\n",
    "metoda `find_all()`- szuka i zapisuje wszystkie elementy do listy"
   ]
  },
  {
   "cell_type": "code",
   "execution_count": 19,
   "id": "d6ff8041",
   "metadata": {},
   "outputs": [
    {
     "name": "stdout",
     "output_type": "stream",
     "text": [
      "Российская нейросеть сортирует пластик с точностью 95%\n",
      "Wi-Fi Hack\n",
      "Twitter будет банить пользователей, которые желают смерти другим\n"
     ]
    }
   ],
   "source": [
    "page_h1 = soup.find(\"h1\")\n",
    "page_h1\n",
    "\n",
    "page_all_h3 = soup.find_all(\"h3\")\n",
    "page_all_h3\n",
    "\n",
    "for item in page_all_h1:\n",
    "    print(item.text)"
   ]
  },
  {
   "cell_type": "markdown",
   "id": "b01f5768",
   "metadata": {},
   "source": [
    "#### Jest mozliwosc szukania za pomoca klasow, dla tego wykorzytuje `class_`, '_'- jest obowiazkowy tak jak bez niego, wystapi blad , tak jak `class` jest slowem zarezerwowanym\n",
    "\n",
    "metoda strip() - sluzy do usuniecia spacjii"
   ]
  },
  {
   "cell_type": "code",
   "execution_count": 48,
   "id": "aecce70d",
   "metadata": {},
   "outputs": [
    {
     "name": "stdout",
     "output_type": "stream",
     "text": [
      "Mr Anderson\n"
     ]
    }
   ],
   "source": [
    "user_name = soup.find(\"div\", class_ = 'user__name')\n",
    "print(user_name.text.strip())"
   ]
  },
  {
   "cell_type": "code",
   "execution_count": 101,
   "id": "c8eecb3a",
   "metadata": {},
   "outputs": [
    {
     "name": "stdout",
     "output_type": "stream",
     "text": [
      "Дата рождения:\n",
      "01.01.1970\n"
     ]
    }
   ],
   "source": [
    "birthday = soup.find('div', class_ = \"user__birth__date\")\n",
    "print(birthday_data.text.strip())"
   ]
  },
  {
   "cell_type": "code",
   "execution_count": 100,
   "id": "a259b3d2",
   "metadata": {},
   "outputs": [
    {
     "data": {
      "text/plain": [
       "'Los Angeles'"
      ]
     },
     "execution_count": 100,
     "metadata": {},
     "output_type": "execute_result"
    }
   ],
   "source": [
    "user_city = soup.find('div', class_ = 'user__city').find_all('span')\n",
    "user_city[1].text"
   ]
  },
  {
   "cell_type": "markdown",
   "id": "7b40bdf9",
   "metadata": {},
   "source": [
    "##### za pomoca dict: w tym przypadku wykotrzustuje `{ \"class\"  : \"user_data\"}` , `class` jest bez `_`!"
   ]
  },
  {
   "cell_type": "code",
   "execution_count": 96,
   "id": "c365559a",
   "metadata": {},
   "outputs": [
    {
     "name": "stdout",
     "output_type": "stream",
     "text": [
      "01.01.1970\n"
     ]
    }
   ],
   "source": [
    "user_birthday = soup.find(\"div\", {\"class\" :'user__birth__date'}).find_all('span')\n",
    "print(user_birthday[1].text)"
   ]
  },
  {
   "cell_type": "code",
   "execution_count": 113,
   "id": "0c99ea4c",
   "metadata": {},
   "outputs": [
    {
     "data": {
      "text/plain": [
       "[<span>Mr Anderson</span>,\n",
       " <span>Дата рождения:</span>,\n",
       " <span>01.01.1970</span>,\n",
       " <span class=\"city__label\">Город:</span>,\n",
       " <span>Los Angeles</span>]"
      ]
     },
     "execution_count": 113,
     "metadata": {},
     "output_type": "execute_result"
    }
   ],
   "source": [
    "find_all_span  = soup.find(class_ = \"user__info\").find_all(\"span\")\n",
    "find_all_span"
   ]
  },
  {
   "cell_type": "code",
   "execution_count": 116,
   "id": "424f3021",
   "metadata": {},
   "outputs": [
    {
     "name": "stdout",
     "output_type": "stream",
     "text": [
      "Mr Anderson\n",
      "Дата рождения:\n",
      "01.01.1970\n",
      "Город:\n",
      "Los Angeles\n"
     ]
    }
   ],
   "source": [
    "for item in find_all_span:\n",
    "    print(item.text)"
   ]
  },
  {
   "cell_type": "code",
   "execution_count": 118,
   "id": "95258f51",
   "metadata": {},
   "outputs": [
    {
     "data": {
      "text/plain": [
       "'01.01.1970'"
      ]
     },
     "execution_count": 118,
     "metadata": {},
     "output_type": "execute_result"
    }
   ],
   "source": [
    "find_all_span[2].text"
   ]
  },
  {
   "cell_type": "markdown",
   "id": "060a02a1",
   "metadata": {},
   "source": [
    "### Szukam wszystkie linki na stronie"
   ]
  },
  {
   "cell_type": "code",
   "execution_count": 143,
   "id": "20ea7ab4",
   "metadata": {},
   "outputs": [
    {
     "data": {
      "text/plain": [
       "[<a href=\"http://instagram.com/username\">Instagram</a>,\n",
       " <a href=\"http://twitter.com/username\">Twitter</a>,\n",
       " <a href=\"http://youtube.com/username\">Youtube</a>]"
      ]
     },
     "execution_count": 143,
     "metadata": {},
     "output_type": "execute_result"
    }
   ],
   "source": [
    "social_links = soup.find(class_ = 'social__networks').find('ul').find_all(\"a\")\n",
    "social_links"
   ]
  },
  {
   "cell_type": "code",
   "execution_count": 137,
   "id": "1554e659",
   "metadata": {},
   "outputs": [
    {
     "data": {
      "text/plain": [
       "[<a href=\"http://instagram.com/username\">Instagram</a>,\n",
       " <a href=\"http://twitter.com/username\">Twitter</a>,\n",
       " <a href=\"http://youtube.com/username\">Youtube</a>]"
      ]
     },
     "execution_count": 137,
     "metadata": {},
     "output_type": "execute_result"
    }
   ],
   "source": [
    "all_links = soup.find_all(\"a\")\n",
    "all_links"
   ]
  },
  {
   "cell_type": "code",
   "execution_count": 148,
   "id": "77e3abaa",
   "metadata": {},
   "outputs": [
    {
     "name": "stdout",
     "output_type": "stream",
     "text": [
      "Instagram: http://instagram.com/username\n",
      "Twitter: http://twitter.com/username\n",
      "Youtube: http://youtube.com/username\n"
     ]
    }
   ],
   "source": [
    "for item in all_links:\n",
    "    item_text = item.text\n",
    "    item_url = item.get(\"href\")\n",
    "    print(f\"{item_text}: {item_url}\")"
   ]
  },
  {
   "cell_type": "code",
   "execution_count": null,
   "id": "cd6694c4",
   "metadata": {},
   "outputs": [],
   "source": []
  }
 ],
 "metadata": {
  "kernelspec": {
   "display_name": "Python 3 (ipykernel)",
   "language": "python",
   "name": "python3"
  },
  "language_info": {
   "codemirror_mode": {
    "name": "ipython",
    "version": 3
   },
   "file_extension": ".py",
   "mimetype": "text/x-python",
   "name": "python",
   "nbconvert_exporter": "python",
   "pygments_lexer": "ipython3",
   "version": "3.9.12"
  }
 },
 "nbformat": 4,
 "nbformat_minor": 5
}
